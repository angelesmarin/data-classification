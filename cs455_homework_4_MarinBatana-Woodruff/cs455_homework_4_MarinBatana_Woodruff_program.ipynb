{
 "cells": [
  {
   "cell_type": "markdown",
   "id": "cd7e47e0",
   "metadata": {},
   "source": [
    "### Data preparation"
   ]
  },
  {
   "cell_type": "code",
   "execution_count": 25,
   "id": "c8d5aeef",
   "metadata": {},
   "outputs": [],
   "source": [
    "import pandas as pd\n",
    "from pathlib import Path\n",
    "import os\n",
    "from sklearn.model_selection import train_test_split\n",
    "import math\n",
    "from sklearn import tree\n",
    "from sklearn.tree import DecisionTreeClassifier"
   ]
  },
  {
   "cell_type": "code",
   "execution_count": 26,
   "id": "54a0b832",
   "metadata": {},
   "outputs": [],
   "source": [
    "def preprocessing(old_csv, new_csv):\n",
    "    directory = os.path.dirname(new_csv)\n",
    "    \n",
    "    def classification(age, wgt):\n",
    "        if age < 30:\n",
    "            return 'A' if 50 <= wgt <= 80 else 'B'\n",
    "        else:\n",
    "            return 'A' if 55 <= wgt <= 85 else 'B'\n",
    "\n",
    "    df = pd.read_csv(old_csv)\n",
    "    df['class label'] = df.apply(lambda row: classification(row['age'], row['wgt']), axis=1)\n",
    "    \n",
    "    df.to_csv(new_csv, index=False)\n",
    "    \n",
    "    label_a = df[df['class label'] == 'A']\n",
    "    label_b = df[df['class label'] == 'B']\n",
    "    \n",
    "    #50 training data objects\n",
    "    a_training = label_a.sample(n=25, random_state=42)\n",
    "    b_training = label_b.sample(n=25, random_state=42)\n",
    "    training_data = pd.concat([a_training, b_training])\n",
    "    \n",
    "    # 50 testing data objects\n",
    "    testing_data = df.drop(training_data.index)\n",
    "    \n",
    "    training_labels = training_data['class label'].tolist()\n",
    "    training_points = training_data[['age', 'wgt']].values\n",
    "    test_points = testing_data[['age', 'wgt']].values\n",
    "    true_labels = testing_data['class label'].tolist()\n",
    "    \n",
    "    return new_csv, training_points, test_points, training_labels, true_labels, training_data\n"
   ]
  },
  {
   "cell_type": "code",
   "execution_count": 27,
   "id": "55b17b4e",
   "metadata": {},
   "outputs": [],
   "source": [
    "def get_input_file_path():\n",
    "    file_name = 'pre_homework4_445.csv'\n",
    "    file_path = Path.home() / 'Desktop' / file_name\n",
    "    return str(file_path)\n",
    "\n",
    "def get_output_file_path():\n",
    "    file_name = 'cs455_homework_4_MarinBatana-Woodruff_dataset.csv'\n",
    "    file_path = Path.home() / 'Desktop' / file_name\n",
    "    return str(file_path)"
   ]
  },
  {
   "cell_type": "code",
   "execution_count": 28,
   "id": "e7912e86",
   "metadata": {
    "scrolled": true
   },
   "outputs": [
    {
     "name": "stdout",
     "output_type": "stream",
     "text": [
      "Saved to: /Users/angelesmarin/Desktop/cs455_homework_4_MarinBatana-Woodruff_dataset.csv\n"
     ]
    }
   ],
   "source": [
    "old_csv = get_input_file_path()\n",
    "new_csv = get_output_file_path()\n",
    "dataset, training_points, test_points, training_labels, true_labels, training_data = preprocessing(old_csv, new_csv)\n",
    "print(f\"Saved to: {dataset}\")"
   ]
  },
  {
   "cell_type": "markdown",
   "id": "ad97da32",
   "metadata": {},
   "source": [
    "### KNN Classification"
   ]
  },
  {
   "cell_type": "code",
   "execution_count": 29,
   "id": "cb20e459",
   "metadata": {},
   "outputs": [],
   "source": [
    "def distance_euclidean(p, q):\n",
    "\treturn math.sqrt((p[0]-q[0]) * (p[0]-q[0]) + (p[1]-q[1])*(p[1]-q[1]))"
   ]
  },
  {
   "cell_type": "markdown",
   "id": "22071d5b",
   "metadata": {},
   "source": [
    "#### K=1 implementation "
   ]
  },
  {
   "cell_type": "code",
   "execution_count": 30,
   "id": "a62ecc3e",
   "metadata": {},
   "outputs": [],
   "source": [
    "def step_1(training_points, test_points):\n",
    "    distances = [distance_euclidean(test_points, p) for p in training_points]\n",
    "    return distances"
   ]
  },
  {
   "cell_type": "code",
   "execution_count": 31,
   "id": "a9cf89f9",
   "metadata": {},
   "outputs": [],
   "source": [
    "def step_2(distances):\n",
    "    distances_rank = sorted(range(len(distances)), key=lambda k: distances[k])\n",
    "    return distances_rank"
   ]
  },
  {
   "cell_type": "code",
   "execution_count": 32,
   "id": "632d14e3",
   "metadata": {},
   "outputs": [],
   "source": [
    "def step_3(distances_rank, training_labels, k):\n",
    "    vote_for_a = 0\n",
    "    vote_for_b = 0\n",
    "    for i in range(k):\n",
    "        if (training_labels[distances_rank[i]] == 'A'):\n",
    "            vote_for_a = vote_for_a + 1\n",
    "        else:\n",
    "            vote_for_b = vote_for_b + 1\n",
    "    if (vote_for_a > vote_for_b):\n",
    "    \treturn 'A'\n",
    "    else:\n",
    "    \treturn 'B'"
   ]
  },
  {
   "cell_type": "markdown",
   "id": "1fc6a19f",
   "metadata": {},
   "source": [
    "#### K=1 prediction  "
   ]
  },
  {
   "cell_type": "code",
   "execution_count": 33,
   "id": "aab5c8af",
   "metadata": {},
   "outputs": [],
   "source": [
    "def prediction_1NN(training_data, test_data, training_labels, k):\n",
    "    prediction = []\n",
    "    for p in test_data:\n",
    "        distances = step_1(training_data, p)\n",
    "        distances_rank = step_2(distances)\n",
    "        prediction.append(step_3(distances_rank, training_labels, 1))\n",
    "    return prediction"
   ]
  },
  {
   "cell_type": "code",
   "execution_count": 34,
   "id": "fd45f501",
   "metadata": {
    "scrolled": false
   },
   "outputs": [
    {
     "name": "stdout",
     "output_type": "stream",
     "text": [
      "Prediction: ['A', 'A', 'A', 'A', 'A', 'A', 'A', 'B', 'A', 'B', 'A', 'B', 'A', 'A', 'A', 'A', 'A', 'A', 'A', 'A', 'A', 'A', 'A', 'A', 'A', 'B', 'B', 'B', 'B', 'A', 'B', 'B', 'B', 'B', 'B', 'B', 'B', 'B', 'B', 'B', 'B', 'A', 'B', 'B', 'B', 'B', 'B', 'B', 'B', 'B']\n"
     ]
    }
   ],
   "source": [
    "prediction = prediction_1NN(training_points, test_points, training_labels, 1)\n",
    "print(\"Prediction:\", prediction)"
   ]
  },
  {
   "cell_type": "markdown",
   "id": "a78aefeb",
   "metadata": {},
   "source": [
    "#### K=1 accuracy "
   ]
  },
  {
   "cell_type": "code",
   "execution_count": 35,
   "id": "51b97354",
   "metadata": {},
   "outputs": [],
   "source": [
    "def accuracy(true_label, prediction):\n",
    "    correct_a = correct_b = total_a = total_b = 0\n",
    "    \n",
    "    for i in range(len(true_label)):\n",
    "        if true_label[i] == 'A':\n",
    "            total_a += 1\n",
    "            if prediction[i] == 'A':\n",
    "                correct_a += 1\n",
    "        elif true_label[i] == 'B':\n",
    "            total_b += 1\n",
    "            if prediction[i] == 'B':\n",
    "                correct_b += 1\n",
    "    \n",
    "    accuracy_a = correct_a / total_a if total_a else 0\n",
    "    accuracy_b = correct_b / total_b if total_b else 0\n",
    "    average_accuracy = (correct_a + correct_b) / len(prediction)\n",
    "    \n",
    "    print(f\"accuracy of class A: {accuracy_a * 100:.2f}%\")\n",
    "    print(f\"accuracy of class B: {accuracy_b * 100:.2f}%\")\n",
    "    print(f\"overall classification accuracy: {average_accuracy * 100:.2f}%\")\n",
    "    \n",
    "    return accuracy_a, accuracy_b, average_accuracy"
   ]
  },
  {
   "cell_type": "code",
   "execution_count": 36,
   "id": "75694b44",
   "metadata": {},
   "outputs": [
    {
     "name": "stdout",
     "output_type": "stream",
     "text": [
      "accuracy of class A: 88.00%\n",
      "accuracy of class B: 92.00%\n",
      "overall classification accuracy: 90.00%\n"
     ]
    },
    {
     "data": {
      "text/plain": [
       "(0.88, 0.92, 0.9)"
      ]
     },
     "execution_count": 36,
     "metadata": {},
     "output_type": "execute_result"
    }
   ],
   "source": [
    "accuracy(training_labels, prediction)"
   ]
  },
  {
   "cell_type": "markdown",
   "id": "abfba059",
   "metadata": {},
   "source": [
    "#### K=5 prediction  "
   ]
  },
  {
   "cell_type": "code",
   "execution_count": 37,
   "id": "6ba65d08",
   "metadata": {},
   "outputs": [],
   "source": [
    "def prediction_5NN(training_data, test_data, training_labels, k):\n",
    "    prediction_5 = []\n",
    "    for p in test_data:\n",
    "        distances = step_1(training_data, p)\n",
    "        distances_rank = step_2(distances)\n",
    "        prediction_5.append(step_3(distances_rank, training_labels, 5))\n",
    "    return prediction_5"
   ]
  },
  {
   "cell_type": "code",
   "execution_count": 38,
   "id": "0bff4a2a",
   "metadata": {},
   "outputs": [
    {
     "name": "stdout",
     "output_type": "stream",
     "text": [
      "Prediction: ['A', 'A', 'A', 'A', 'A', 'A', 'A', 'A', 'A', 'A', 'A', 'A', 'A', 'A', 'A', 'A', 'A', 'A', 'A', 'A', 'A', 'A', 'A', 'A', 'A', 'B', 'B', 'B', 'B', 'B', 'B', 'B', 'B', 'B', 'B', 'B', 'B', 'B', 'B', 'B', 'B', 'A', 'B', 'A', 'B', 'B', 'B', 'B', 'A', 'A']\n"
     ]
    }
   ],
   "source": [
    "prediction_5 = prediction_5NN(training_points, test_points, training_labels, 5)\n",
    "print(\"Prediction:\", prediction_5)"
   ]
  },
  {
   "cell_type": "markdown",
   "id": "a8a4e362",
   "metadata": {},
   "source": [
    "#### K=5 accuracy "
   ]
  },
  {
   "cell_type": "code",
   "execution_count": 39,
   "id": "81ebbf02",
   "metadata": {},
   "outputs": [],
   "source": [
    "def accuracy_5(true_label, prediction_5):\n",
    "    correct_a = correct_b = total_a = total_b = 0\n",
    "    \n",
    "    for i in range(len(true_label)):\n",
    "        if true_label[i] == 'A':\n",
    "            total_a += 1\n",
    "            if prediction_5[i] == 'A':\n",
    "                correct_a += 1\n",
    "        elif true_label[i] == 'B':\n",
    "            total_b += 1\n",
    "            if prediction_5[i] == 'B':\n",
    "                correct_b += 1\n",
    "    \n",
    "    accuracy_a = (correct_a / total_a) if total_a else 0\n",
    "    accuracy_b = (correct_b / total_b) if total_b else 0\n",
    "    overall_accuracy = (correct_a + correct_b) / len(prediction_5)\n",
    "    \n",
    "    print(f\"Accuracy for class A: {accuracy_a * 100:.2f}%\")\n",
    "    print(f\"Accuracy for class B: {accuracy_b * 100:.2f}%\")\n",
    "    print(f\"Overall accuracy: {overall_accuracy * 100:.2f}%\")\n",
    "    \n",
    "    return accuracy_a, accuracy_b, overall_accuracy"
   ]
  },
  {
   "cell_type": "code",
   "execution_count": 40,
   "id": "10e9c29c",
   "metadata": {},
   "outputs": [
    {
     "name": "stdout",
     "output_type": "stream",
     "text": [
      "accuracy of class A: 88.00%\n",
      "accuracy of class B: 92.00%\n",
      "overall classification accuracy: 90.00%\n"
     ]
    },
    {
     "data": {
      "text/plain": [
       "(0.88, 0.92, 0.9)"
      ]
     },
     "execution_count": 40,
     "metadata": {},
     "output_type": "execute_result"
    }
   ],
   "source": [
    "accuracy(true_labels, prediction)"
   ]
  },
  {
   "cell_type": "markdown",
   "id": "3aaf23e6",
   "metadata": {},
   "source": [
    "### Decision Tree"
   ]
  },
  {
   "cell_type": "code",
   "execution_count": 41,
   "id": "c35079a1",
   "metadata": {
    "scrolled": true
   },
   "outputs": [
    {
     "name": "stdout",
     "output_type": "stream",
     "text": [
      "Decision Tree Prediction: ['A' 'A' 'A' 'A' 'A' 'A' 'A' 'B' 'B' 'A' 'A' 'A' 'A' 'A' 'A' 'A' 'A' 'A'\n",
      " 'A' 'A' 'A' 'A' 'A' 'A' 'A' 'B' 'B' 'B' 'B' 'A' 'B' 'B' 'B' 'B' 'B' 'B'\n",
      " 'B' 'B' 'B' 'B' 'B' 'A' 'B' 'A' 'B' 'B' 'B' 'B' 'B' 'B']\n"
     ]
    },
    {
     "name": "stderr",
     "output_type": "stream",
     "text": [
      "/Users/angelesmarin/anaconda3/lib/python3.11/site-packages/sklearn/base.py:464: UserWarning: X does not have valid feature names, but DecisionTreeClassifier was fitted with feature names\n",
      "  warnings.warn(\n"
     ]
    }
   ],
   "source": [
    "x_train = training_data[['age', 'wgt']]\n",
    "y_train = training_data['class label']\n",
    "clf = DecisionTreeClassifier()\n",
    "clf.fit(x_train, y_train)\n",
    "tree_predictions = clf.predict(test_points)\n",
    "print(\"Decision Tree Prediction:\", tree_predictions)"
   ]
  },
  {
   "cell_type": "code",
   "execution_count": 42,
   "id": "2aba7706",
   "metadata": {},
   "outputs": [],
   "source": [
    "def tree_accuracy(true_label, tree_predictions):\n",
    "    correct_a = correct_b = total_a = total_b = 0\n",
    "\n",
    "    for i in range(len(true_label)):\n",
    "        if true_label[i] == 'A':\n",
    "            total_a += 1\n",
    "            if tree_predictions[i] == 'A':\n",
    "                correct_a += 1\n",
    "        elif true_label[i] == 'B':\n",
    "            total_b += 1\n",
    "            if tree_predictions[i] == 'B':\n",
    "                correct_b += 1\n",
    "\n",
    "    accuracy_a = (correct_a / total_a) * 100 if total_a else 0\n",
    "    accuracy_b = (correct_b / total_b) * 100 if total_b else 0\n",
    "    overall_accuracy = (correct_a + correct_b) / len(tree_predictions) * 100\n",
    "\n",
    "    print(f\"Accuracy for class A: {accuracy_a:.2f}%\")\n",
    "    print(f\"Accuracy for class B: {accuracy_b:.2f}%\")\n",
    "    print(f\"Overall accuracy: {overall_accuracy:.2f}%\")\n",
    "    \n",
    "    return accuracy_a, accuracy_b, overall_accuracy"
   ]
  },
  {
   "cell_type": "code",
   "execution_count": 43,
   "id": "d4d8d63d",
   "metadata": {},
   "outputs": [
    {
     "name": "stdout",
     "output_type": "stream",
     "text": [
      "Accuracy for class A: 92.00%\n",
      "Accuracy for class B: 88.00%\n",
      "Overall accuracy: 90.00%\n"
     ]
    }
   ],
   "source": [
    "accuracy_a, accuracy_b, overall_accuracy = tree_accuracy(true_labels, tree_predictions)"
   ]
  },
  {
   "cell_type": "code",
   "execution_count": null,
   "id": "5c1ad9ac",
   "metadata": {},
   "outputs": [],
   "source": []
  },
  {
   "cell_type": "code",
   "execution_count": null,
   "id": "81014598",
   "metadata": {},
   "outputs": [],
   "source": []
  }
 ],
 "metadata": {
  "kernelspec": {
   "display_name": "Python 3 (ipykernel)",
   "language": "python",
   "name": "python3"
  },
  "language_info": {
   "codemirror_mode": {
    "name": "ipython",
    "version": 3
   },
   "file_extension": ".py",
   "mimetype": "text/x-python",
   "name": "python",
   "nbconvert_exporter": "python",
   "pygments_lexer": "ipython3",
   "version": "3.11.5"
  }
 },
 "nbformat": 4,
 "nbformat_minor": 5
}
